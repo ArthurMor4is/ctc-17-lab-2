{
 "cells": [
  {
   "cell_type": "markdown",
   "metadata": {},
   "source": [
    "# Projeto Buscas de Melhoria Iterativa e Satisfação de Restrições"
   ]
  },
  {
   "cell_type": "markdown",
   "metadata": {},
   "source": [
    "## 1. Autores:\n",
    "\n",
    "* Arthur Fernandes de Morais\n",
    "* João Custódio de Faria Filho\n",
    "* Raphael de Vasconcelos Nascimento"
   ]
  },
  {
   "cell_type": "markdown",
   "metadata": {},
   "source": [
    "## 2. Objetivo do Trabalho e descrição da implementação:\n",
    "\n",
    "O presente trabalho visa a resolver os problemas 1 e 2 descritos abaixo. Para a solução de ambos os problemas foi utilizado a linguagem `Python 3.7` e  implementado via `Juyter Notebooks`. Utilizou-se também, para sincronizar as modificações pelos autores, a plataforma do `github` por meio de um repositório contendo tanto os notebooks quanto os arquivos auxiliares à solução dos problemas que são:\n",
    "\n",
    "* Para o problema 1: Notebook `q1.ipynb`\n",
    "* Para o problema 2: Notebook `q2.ipynb`"
   ]
  },
  {
   "cell_type": "markdown",
   "metadata": {},
   "source": [
    "## 3. Resultados obtidos"
   ]
  },
  {
   "cell_type": "markdown",
   "metadata": {},
   "source": [
    "#### 2.1 Descrição da solução do seguinte problema:\n",
    "Crie um sistema capaz de resolver o problema das N-Rainhas através de busca\n",
    "de melhoria iterativa (hill climbing ou têmpera simulada) para N com os seguintes\n",
    "valores 10, 20 e 25. Tabele os tempos de processamento para obter uma solução."
   ]
  },
  {
   "cell_type": "code",
   "execution_count": 700,
   "metadata": {},
   "outputs": [
    {
     "name": "stdin",
     "output_type": "stream",
     "text": [
      "Once deleted, variables cannot be recovered. Proceed (y/[n])?  y\n"
     ]
    }
   ],
   "source": [
    "%reset"
   ]
  },
  {
   "cell_type": "code",
   "execution_count": 701,
   "metadata": {},
   "outputs": [],
   "source": [
    "import matplotlib.pyplot as plt\n",
    "import numpy as np\n",
    "from matplotlib import colors\n",
    "import re\n",
    "import random\n",
    "import time"
   ]
  },
  {
   "cell_type": "markdown",
   "metadata": {},
   "source": [
    "**Para o problema em questão desenvolvemos as seguintes funções:**\n",
    "\n",
    "`score_state(state)`: Calcula o score de um dado estado com base no número de rainhas que se atacam. *Score = 1/(N rainhas + 1)*\n",
    "\n",
    "`fitness_function(population)`: Calcula a probabilidade de se escolher dados cromossomo com base no seu score.\n",
    "\n",
    "`selection(population, p)`: Retorna a subpopulação de cromossomos com base na sua probabilidade de ser escolhido.\n",
    "\n",
    "`cross_over(population)`: Retorna uma nova população de indivíduos após serem cruzados e \"misturados\" seus cromossomos\n",
    "\n",
    "`mutation(population, p)`: Adiciona mutação em um gene numa fração p de indivíduos da população.\n",
    "\n",
    "`print_game(cromo)`: Apresenta a representação de um dado estado. Uma rainha no tabuleiro é representada por um *0* e um espaço vazio por um *1*"
   ]
  },
  {
   "cell_type": "markdown",
   "metadata": {},
   "source": [
    "### Funções auxiliares do algorítmo genético:"
   ]
  },
  {
   "cell_type": "code",
   "execution_count": 763,
   "metadata": {},
   "outputs": [],
   "source": [
    "def score_state(state):\n",
    "    L = len(state)\n",
    "    max_atacks = L*(L-1)/2\n",
    "    state = np.insert(state, 0, 0, axis=0)\n",
    "    score = 0\n",
    "    for i in range(1, L+1):\n",
    "        if i <= L:\n",
    "            for j in range(i+1, L+1):\n",
    "                if state[j] == state[i]:\n",
    "                    score += 1\n",
    "                elif (i - state[i]) == (j - state[j]):\n",
    "                    score += 1\n",
    "                elif state[i] + i == state[j] + j:\n",
    "                    score += 1\n",
    "    \n",
    "    return 1/(score + 1)\n",
    "#     return max_atacks - score -> Uma métrica que tabém poderia ser utilizada para balizar a qualidade do estado\n",
    "\n",
    "def fitness_function(population):\n",
    "    total_score = 0\n",
    "    L = len(population)\n",
    "    for person in population:\n",
    "        total_score += score_state(person)\n",
    "    \n",
    "    if total_score == 0:\n",
    "        return np.random.dirichlet(np.ones(L),size=1)[0]\n",
    "    \n",
    "    result = np.array([])\n",
    "    for i in range(L):\n",
    "        result = np.append(result, score_state(population[i])/total_score)\n",
    "    \n",
    "    return result\n",
    "\n",
    "def selection(population, p):\n",
    "    # Seleção usando o método da roleta. De toda população selecionar uma fração p\n",
    "    L = len(population)\n",
    "    \n",
    "    n = 0\n",
    "    if int(len(population)*p) % 2 != 0:\n",
    "        n = int(len(population)*p) - 1\n",
    "    else:\n",
    "        n = int(len(population)*p)\n",
    "            \n",
    "    selected = np.random.choice(np.arange(0, L, 1), n, p=fitness_function(population), replace=False)\n",
    "        \n",
    "    \n",
    "    result = [population[i] for i in selected]\n",
    "            \n",
    "    return result\n",
    "\n",
    "def cross_over(population):\n",
    "    selected = np.zeros(len(population))\n",
    "    new_population = []\n",
    "    for i in range(len(selected) - 1):\n",
    "        if selected[i] != 1:\n",
    "            #Seleciona esse indivíduo\n",
    "            selected[i] = 1\n",
    "\n",
    "            #Seleciona outro, à frente no vetor, aleatoriamente\n",
    "            j = np.random.choice(len(selected))\n",
    "            while ~(selected[j] == 0 or j <= i):\n",
    "                j = np.random.choice(len(selected))\n",
    "\n",
    "            selected[j] = 1\n",
    "            \n",
    "            p1 = population[i]\n",
    "            p2 = population[j]\n",
    "    \n",
    "            #Seleciona ao acaso uma posição para o cross\n",
    "            x = np.random.choice(len(population[0])) + 1\n",
    "\n",
    "            tmp = p2[:x].copy()\n",
    "            p2[:x], p1[:x]  = p1[:x], tmp\n",
    "\n",
    "            new_population.append(p1)\n",
    "            new_population.append(p2)\n",
    "        \n",
    "    \n",
    "    return new_population\n",
    "\n",
    "def mutation(population, p):\n",
    "    L = int(len(population)*p)\n",
    "    #Uma fração de p indivíduos irá sofrer uma mutação em um gene\n",
    "    for i in range(L):\n",
    "        #Seleciona ao acaso um indivíduo pra sofrer mutação\n",
    "        idx = np.random.randint(population.shape[0], size=1)\n",
    "        cromo = population[idx, :][0]\n",
    "        \n",
    "        #Seleciona ao acaso uma posição desse indivíduo\n",
    "        posic = np.random.choice(len(cromo), 1)\n",
    "        \n",
    "        #Seleciona ao acaso um novo gene\n",
    "        cromo[posic] = np.random.choice(len(cromo), 1) + 1\n",
    "        \n",
    "        #Substitui na população\n",
    "        population[idx] = cromo\n",
    "        \n",
    "        \n",
    "    return population\n",
    "\n",
    "def print_game(cromo):\n",
    "    L = len(cromo)\n",
    "    \n",
    "    result = np.full((L,L), 1)\n",
    "    \n",
    "    for i in range(L):\n",
    "        result[cromo[i]-1][i] = 0\n",
    "    \n",
    "    print(result)"
   ]
  },
  {
   "cell_type": "markdown",
   "metadata": {},
   "source": [
    "### Código do algorítmo genético:"
   ]
  },
  {
   "cell_type": "markdown",
   "metadata": {},
   "source": [
    "No código propriamente dito do algorítmo genético abaixo foi considerado como critério de parada uma população de 100 vezes a população inicial. Além disso vale destacar que o fator *p* além de ser o fator de reprodução também foi escolhido como fator de mutação, ou seja p% de indivíduos da nova população, após o cruzamento sofrerá a mutação de um gene."
   ]
  },
  {
   "cell_type": "code",
   "execution_count": 717,
   "metadata": {},
   "outputs": [],
   "source": [
    "# Enquanto critério de parada não atingido\n",
    "def evolution(population, p):\n",
    "    start = time.perf_counter()\n",
    "    L = len(population[0])\n",
    "    # Calcular aptidão\n",
    "    steps = 0\n",
    "    while True:\n",
    "        steps += 1\n",
    "        score_aux = 0\n",
    "        for cromo in population:\n",
    "            if score_state(cromo) > score_aux:\n",
    "                score_aux = score_state(cromo)\n",
    "                cromo_aux = cromo\n",
    "        \n",
    "        if len(population) > 100*L:\n",
    "            finish = time.perf_counter()\n",
    "            print(f'Finished in {round(finish - start, 3)} second(s)')\n",
    "            return cromo_aux, steps, (1/score_state(cromo_aux)) - 1, len(population)\n",
    "        \n",
    "        #Selecionar uma fração p de membros para reprodução\n",
    "        sub_p = selection(population, p)\n",
    "        \n",
    "        #Aplicar cruzamento e adicionar filhos à população\n",
    "        sub_p = cross_over(selection(population, p))\n",
    "        for child in sub_p:\n",
    "            population = np.vstack([population, child])\n",
    "        \n",
    "        #Realizar mutação em membros da população\n",
    "        population = mutation(population, p)\n",
    "        "
   ]
  },
  {
   "cell_type": "markdown",
   "metadata": {},
   "source": [
    "Cada uma das saídas da função evolution contem o array do resultado do algorítmo, quantas gerações foram geradas, quantos pares de rainhas esse estado possui se atacando, e qual o tamanho da população final. Vale ressaltar que para os casos em questão foi escolhido uma taxa fixa de 80% de cruzamento ao longo das gerações e que a saída da função evolution também apresenta o tempo transcorrido para apresnetar a solução."
   ]
  },
  {
   "cell_type": "code",
   "execution_count": 764,
   "metadata": {},
   "outputs": [
    {
     "data": {
      "text/plain": [
       "array([[1, 3, 9, 9, 6, 3, 5, 5, 5, 6],\n",
       "       [3, 5, 1, 1, 9, 8, 1, 2, 7, 1],\n",
       "       [3, 4, 2, 1, 4, 1, 8, 5, 2, 7],\n",
       "       [8, 3, 6, 4, 6, 5, 4, 3, 9, 8]])"
      ]
     },
     "execution_count": 764,
     "metadata": {},
     "output_type": "execute_result"
    }
   ],
   "source": [
    "population = np.random.randint(1, 10, size=(4, 10))\n",
    "population"
   ]
  },
  {
   "cell_type": "code",
   "execution_count": 765,
   "metadata": {},
   "outputs": [
    {
     "name": "stdout",
     "output_type": "stream",
     "text": [
      "Finished in 0.679 second(s)\n"
     ]
    }
   ],
   "source": [
    "cromo, steps, attacks, population = evolution(population, 0.8)"
   ]
  },
  {
   "cell_type": "code",
   "execution_count": 766,
   "metadata": {},
   "outputs": [
    {
     "data": {
      "text/plain": [
       "array([8, 3, 9, 4, 8, 1, 5, 2, 2, 6])"
      ]
     },
     "execution_count": 766,
     "metadata": {},
     "output_type": "execute_result"
    }
   ],
   "source": [
    "cromo"
   ]
  },
  {
   "cell_type": "code",
   "execution_count": 767,
   "metadata": {},
   "outputs": [
    {
     "name": "stdout",
     "output_type": "stream",
     "text": [
      "[[1 1 1 1 1 0 1 1 1 1]\n",
      " [1 1 1 1 1 1 1 0 0 1]\n",
      " [1 0 1 1 1 1 1 1 1 1]\n",
      " [1 1 1 0 1 1 1 1 1 1]\n",
      " [1 1 1 1 1 1 0 1 1 1]\n",
      " [1 1 1 1 1 1 1 1 1 0]\n",
      " [1 1 1 1 1 1 1 1 1 1]\n",
      " [0 1 1 1 0 1 1 1 1 1]\n",
      " [1 1 0 1 1 1 1 1 1 1]\n",
      " [1 1 1 1 1 1 1 1 1 1]]\n"
     ]
    }
   ],
   "source": [
    "print_game(cromo)"
   ]
  },
  {
   "cell_type": "code",
   "execution_count": 768,
   "metadata": {},
   "outputs": [
    {
     "data": {
      "text/plain": [
       "array([[12,  4, 17,  7,  7, 14,  9, 11,  4, 10, 19, 17, 12,  9,  3,  9,\n",
       "         9,  9,  6,  3],\n",
       "       [18,  1,  1, 16,  6, 16,  4, 17, 13, 16,  6, 11, 10,  3,  5, 16,\n",
       "        12,  5, 12, 10],\n",
       "       [11,  2, 11, 11,  6, 11,  7, 17, 14, 13, 11,  7, 19, 18, 17, 15,\n",
       "        10, 13, 16, 12],\n",
       "       [18, 16, 13,  5,  2,  6, 13,  6,  3, 17,  6, 10,  8, 12, 10, 18,\n",
       "        11, 15, 11, 10]])"
      ]
     },
     "execution_count": 768,
     "metadata": {},
     "output_type": "execute_result"
    }
   ],
   "source": [
    "population = np.random.randint(1, 20, size=(4, 20))\n",
    "population"
   ]
  },
  {
   "cell_type": "code",
   "execution_count": 769,
   "metadata": {},
   "outputs": [
    {
     "name": "stdout",
     "output_type": "stream",
     "text": [
      "Finished in 7.033 second(s)\n"
     ]
    }
   ],
   "source": [
    "cromo, steps, attacks, population = evolution(population, 0.8)"
   ]
  },
  {
   "cell_type": "code",
   "execution_count": 770,
   "metadata": {},
   "outputs": [
    {
     "data": {
      "text/plain": [
       "array([18, 15, 13, 20,  6, 14,  7,  2,  4,  2, 19, 17, 19,  1,  3,  9,  9,\n",
       "        9, 18,  3])"
      ]
     },
     "execution_count": 770,
     "metadata": {},
     "output_type": "execute_result"
    }
   ],
   "source": [
    "cromo"
   ]
  },
  {
   "cell_type": "code",
   "execution_count": 771,
   "metadata": {},
   "outputs": [
    {
     "name": "stdout",
     "output_type": "stream",
     "text": [
      "[[1 1 1 1 1 1 1 1 1 1 1 1 1 0 1 1 1 1 1 1]\n",
      " [1 1 1 1 1 1 1 0 1 0 1 1 1 1 1 1 1 1 1 1]\n",
      " [1 1 1 1 1 1 1 1 1 1 1 1 1 1 0 1 1 1 1 0]\n",
      " [1 1 1 1 1 1 1 1 0 1 1 1 1 1 1 1 1 1 1 1]\n",
      " [1 1 1 1 1 1 1 1 1 1 1 1 1 1 1 1 1 1 1 1]\n",
      " [1 1 1 1 0 1 1 1 1 1 1 1 1 1 1 1 1 1 1 1]\n",
      " [1 1 1 1 1 1 0 1 1 1 1 1 1 1 1 1 1 1 1 1]\n",
      " [1 1 1 1 1 1 1 1 1 1 1 1 1 1 1 1 1 1 1 1]\n",
      " [1 1 1 1 1 1 1 1 1 1 1 1 1 1 1 0 0 0 1 1]\n",
      " [1 1 1 1 1 1 1 1 1 1 1 1 1 1 1 1 1 1 1 1]\n",
      " [1 1 1 1 1 1 1 1 1 1 1 1 1 1 1 1 1 1 1 1]\n",
      " [1 1 1 1 1 1 1 1 1 1 1 1 1 1 1 1 1 1 1 1]\n",
      " [1 1 0 1 1 1 1 1 1 1 1 1 1 1 1 1 1 1 1 1]\n",
      " [1 1 1 1 1 0 1 1 1 1 1 1 1 1 1 1 1 1 1 1]\n",
      " [1 0 1 1 1 1 1 1 1 1 1 1 1 1 1 1 1 1 1 1]\n",
      " [1 1 1 1 1 1 1 1 1 1 1 1 1 1 1 1 1 1 1 1]\n",
      " [1 1 1 1 1 1 1 1 1 1 1 0 1 1 1 1 1 1 1 1]\n",
      " [0 1 1 1 1 1 1 1 1 1 1 1 1 1 1 1 1 1 0 1]\n",
      " [1 1 1 1 1 1 1 1 1 1 0 1 0 1 1 1 1 1 1 1]\n",
      " [1 1 1 0 1 1 1 1 1 1 1 1 1 1 1 1 1 1 1 1]]\n"
     ]
    }
   ],
   "source": [
    "print_game(cromo)"
   ]
  },
  {
   "cell_type": "code",
   "execution_count": 772,
   "metadata": {},
   "outputs": [
    {
     "data": {
      "text/plain": [
       "array([[17,  1, 12,  7,  9, 13,  5, 14,  1, 13,  5,  4, 10,  8,  7,  7,\n",
       "         5,  7,  4,  1, 23, 23, 12, 15, 17],\n",
       "       [ 4, 16,  4, 20, 16,  2,  5, 24,  3, 13,  4,  8,  2,  2, 20, 23,\n",
       "        16,  2,  2, 17,  3,  9, 10, 11, 24],\n",
       "       [19, 13, 11, 21, 11, 16, 24,  5, 14,  9, 16, 23,  4, 14, 24,  2,\n",
       "        22, 19,  9,  2,  4, 19,  5,  3, 10],\n",
       "       [12, 13, 14, 15, 14,  4, 23, 24,  8,  4,  7, 10, 24, 24,  9, 18,\n",
       "         6, 18,  9, 12,  2,  4,  1, 21, 24]])"
      ]
     },
     "execution_count": 772,
     "metadata": {},
     "output_type": "execute_result"
    }
   ],
   "source": [
    "population = np.random.randint(1, 25, size=(4, 25))\n",
    "population"
   ]
  },
  {
   "cell_type": "code",
   "execution_count": 773,
   "metadata": {},
   "outputs": [
    {
     "name": "stdout",
     "output_type": "stream",
     "text": [
      "Finished in 11.812 second(s)\n"
     ]
    }
   ],
   "source": [
    "cromo, steps, attacks, population = evolution(population, 0.8)"
   ]
  },
  {
   "cell_type": "code",
   "execution_count": 774,
   "metadata": {},
   "outputs": [
    {
     "data": {
      "text/plain": [
       "array([15, 22, 11,  7,  9, 13,  5, 25,  1, 20, 23,  8,  2, 14, 25,  7, 10,\n",
       "       19,  4, 17,  2,  9, 12, 20,  4])"
      ]
     },
     "execution_count": 774,
     "metadata": {},
     "output_type": "execute_result"
    }
   ],
   "source": [
    "cromo"
   ]
  },
  {
   "cell_type": "code",
   "execution_count": 775,
   "metadata": {},
   "outputs": [
    {
     "name": "stdout",
     "output_type": "stream",
     "text": [
      "[[1 1 1 1 1 1 1 1 0 1 1 1 1 1 1 1 1 1 1 1 1 1 1 1 1]\n",
      " [1 1 1 1 1 1 1 1 1 1 1 1 0 1 1 1 1 1 1 1 0 1 1 1 1]\n",
      " [1 1 1 1 1 1 1 1 1 1 1 1 1 1 1 1 1 1 1 1 1 1 1 1 1]\n",
      " [1 1 1 1 1 1 1 1 1 1 1 1 1 1 1 1 1 1 0 1 1 1 1 1 0]\n",
      " [1 1 1 1 1 1 0 1 1 1 1 1 1 1 1 1 1 1 1 1 1 1 1 1 1]\n",
      " [1 1 1 1 1 1 1 1 1 1 1 1 1 1 1 1 1 1 1 1 1 1 1 1 1]\n",
      " [1 1 1 0 1 1 1 1 1 1 1 1 1 1 1 0 1 1 1 1 1 1 1 1 1]\n",
      " [1 1 1 1 1 1 1 1 1 1 1 0 1 1 1 1 1 1 1 1 1 1 1 1 1]\n",
      " [1 1 1 1 0 1 1 1 1 1 1 1 1 1 1 1 1 1 1 1 1 0 1 1 1]\n",
      " [1 1 1 1 1 1 1 1 1 1 1 1 1 1 1 1 0 1 1 1 1 1 1 1 1]\n",
      " [1 1 0 1 1 1 1 1 1 1 1 1 1 1 1 1 1 1 1 1 1 1 1 1 1]\n",
      " [1 1 1 1 1 1 1 1 1 1 1 1 1 1 1 1 1 1 1 1 1 1 0 1 1]\n",
      " [1 1 1 1 1 0 1 1 1 1 1 1 1 1 1 1 1 1 1 1 1 1 1 1 1]\n",
      " [1 1 1 1 1 1 1 1 1 1 1 1 1 0 1 1 1 1 1 1 1 1 1 1 1]\n",
      " [0 1 1 1 1 1 1 1 1 1 1 1 1 1 1 1 1 1 1 1 1 1 1 1 1]\n",
      " [1 1 1 1 1 1 1 1 1 1 1 1 1 1 1 1 1 1 1 1 1 1 1 1 1]\n",
      " [1 1 1 1 1 1 1 1 1 1 1 1 1 1 1 1 1 1 1 0 1 1 1 1 1]\n",
      " [1 1 1 1 1 1 1 1 1 1 1 1 1 1 1 1 1 1 1 1 1 1 1 1 1]\n",
      " [1 1 1 1 1 1 1 1 1 1 1 1 1 1 1 1 1 0 1 1 1 1 1 1 1]\n",
      " [1 1 1 1 1 1 1 1 1 0 1 1 1 1 1 1 1 1 1 1 1 1 1 0 1]\n",
      " [1 1 1 1 1 1 1 1 1 1 1 1 1 1 1 1 1 1 1 1 1 1 1 1 1]\n",
      " [1 0 1 1 1 1 1 1 1 1 1 1 1 1 1 1 1 1 1 1 1 1 1 1 1]\n",
      " [1 1 1 1 1 1 1 1 1 1 0 1 1 1 1 1 1 1 1 1 1 1 1 1 1]\n",
      " [1 1 1 1 1 1 1 1 1 1 1 1 1 1 1 1 1 1 1 1 1 1 1 1 1]\n",
      " [1 1 1 1 1 1 1 0 1 1 1 1 1 1 0 1 1 1 1 1 1 1 1 1 1]]\n"
     ]
    }
   ],
   "source": [
    "print_game(cromo)"
   ]
  },
  {
   "cell_type": "code",
   "execution_count": null,
   "metadata": {},
   "outputs": [],
   "source": []
  }
 ],
 "metadata": {
  "kernelspec": {
   "display_name": "Python 3",
   "language": "python",
   "name": "python3"
  },
  "language_info": {
   "codemirror_mode": {
    "name": "ipython",
    "version": 3
   },
   "file_extension": ".py",
   "mimetype": "text/x-python",
   "name": "python",
   "nbconvert_exporter": "python",
   "pygments_lexer": "ipython3",
   "version": "3.7.0"
  }
 },
 "nbformat": 4,
 "nbformat_minor": 4
}
