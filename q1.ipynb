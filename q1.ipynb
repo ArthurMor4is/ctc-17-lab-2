{
 "cells": [
  {
   "cell_type": "markdown",
   "metadata": {},
   "source": [
    "Crie um sistema capaz de resolver o problema das N-Rainhas através de busca\n",
    "de melhoria iterativa (hill climbing ou têmpera simulada) para N com os seguintes\n",
    "valores 10, 20 e 25. Tabele os tempos de processamento para obter uma solução."
   ]
  },
  {
   "cell_type": "code",
   "execution_count": 315,
   "metadata": {},
   "outputs": [
    {
     "name": "stdin",
     "output_type": "stream",
     "text": [
      "Once deleted, variables cannot be recovered. Proceed (y/[n])?  y\n"
     ]
    }
   ],
   "source": [
    "%reset"
   ]
  },
  {
   "cell_type": "code",
   "execution_count": 316,
   "metadata": {},
   "outputs": [],
   "source": [
    "import matplotlib.pyplot as plt\n",
    "import numpy as np\n",
    "from matplotlib import colors\n",
    "import re\n",
    "import random\n",
    "import time"
   ]
  },
  {
   "cell_type": "code",
   "execution_count": 317,
   "metadata": {},
   "outputs": [],
   "source": [
    "# grid = np.zeros((10, 10), dtype=int)\n",
    "# print(grid)"
   ]
  },
  {
   "cell_type": "code",
   "execution_count": 560,
   "metadata": {},
   "outputs": [],
   "source": [
    "# Calcula o score do estado atual com base no número de rainhas que se atacam\n",
    "# Score = Max - pares de raínhas que se atacam\n",
    "def score_state(state):\n",
    "    L = len(state)\n",
    "    max_atacks = L*(L-1)/2\n",
    "    state = np.insert(state, 0, 0, axis=0)\n",
    "    score = 0\n",
    "    for i in range(1, L+1):\n",
    "        if i <= L:\n",
    "            for j in range(i+1, L+1):\n",
    "                if state[j] == state[i]:\n",
    "                    score += 1\n",
    "                elif (i - state[i]) == (j - state[j]):\n",
    "                    score += 1\n",
    "                elif state[i] + i == state[j] + j:\n",
    "                    score += 1\n",
    "    \n",
    "    return max_atacks - score\n",
    "\n",
    "# Calcula a probabilidade de se escolher dados cromossomo com base no seu score\n",
    "def fitness_function(population):\n",
    "    total_score = 0\n",
    "    L = len(population)\n",
    "    for person in population:\n",
    "        total_score += score_state(person)\n",
    "    \n",
    "    if total_score == 0:\n",
    "        return np.random.dirichlet(np.ones(L),size=1)[0]\n",
    "    \n",
    "    result = np.array([])\n",
    "    for i in range(L):\n",
    "        result = np.append(result, score_state(population[i])/total_score)\n",
    "    \n",
    "    return result\n",
    "\n",
    "# Retorna a subpopulação de cromossomos com base na sua probabilidade de ser escolhido\n",
    "def selection(population, p):\n",
    "    # Seleção usando o método da roleta. De toda população selecionar uma fração p\n",
    "    L = len(population)\n",
    "    \n",
    "    n = 0\n",
    "    if int(len(population)*p) % 2 != 0:\n",
    "        n = int(len(population)*p) - 1\n",
    "    else:\n",
    "        n = int(len(population)*p)\n",
    "            \n",
    "    selected = np.random.choice(np.arange(0, L, 1), n, p=fitness_function(population), replace=False)\n",
    "        \n",
    "    \n",
    "    result = [population[i] for i in selected]\n",
    "            \n",
    "    return result\n",
    "\n",
    "# Retorna uma nova população de indivíduos após serem cruzados\n",
    "def cross_over(population):\n",
    "    selected = np.zeros(len(population)) #1: population[i] já selecionado 0: ainda não selecionado\n",
    "    new_population = []\n",
    "    for i in range(len(selected) - 1):\n",
    "        if selected[i] != 1:\n",
    "            #Seleciona esse indivíduo\n",
    "            selected[i] = 1\n",
    "\n",
    "            #Seleciona outro, à frente no vetor, aleatoriamente\n",
    "            j = np.random.choice(len(selected))\n",
    "            while ~(selected[j] == 0 or j <= i):\n",
    "                j = np.random.choice(len(selected))\n",
    "\n",
    "            selected[j] = 1\n",
    "            \n",
    "            p1 = population[i]\n",
    "            p2 = population[j]\n",
    "    \n",
    "            #Seleciona ao acaso uma posição para o cross\n",
    "            x = np.random.choice(len(population[0])) + 1\n",
    "\n",
    "            tmp = p2[:x].copy()\n",
    "            p2[:x], p1[:x]  = p1[:x], tmp\n",
    "\n",
    "            new_population.append(p1)\n",
    "            new_population.append(p2)\n",
    "        \n",
    "    \n",
    "    return new_population\n",
    "\n",
    "# Adiciona mutação em um gene na fração p de indivíduos da população\n",
    "def mutation(population, p):\n",
    "    L = int(len(population)*p)\n",
    "    #Uma fração de p indivíduos irá sofrer uma mutação em um gene\n",
    "    for i in range(L):\n",
    "        #Seleciona ao acaso um indivíduo pra sofrer mutação\n",
    "        idx = np.random.randint(population.shape[0], size=1)\n",
    "        cromo = population[idx, :][0]\n",
    "        \n",
    "        #Seleciona ao acaso uma posição desse indivíduo\n",
    "        posic = np.random.choice(len(cromo), 1)\n",
    "        \n",
    "        #Seleciona ao acaso um novo gene\n",
    "        cromo[posic] = np.random.choice(len(cromo), 1) + 1\n",
    "        \n",
    "        #Substitui na população\n",
    "        population[idx] = cromo\n",
    "        \n",
    "        \n",
    "    return population\n",
    "    "
   ]
  },
  {
   "cell_type": "code",
   "execution_count": 597,
   "metadata": {},
   "outputs": [],
   "source": [
    "# Enquanto critério de parada não atingido\n",
    "# stop = False\n",
    "def search(population, p):\n",
    "    start = time.perf_counter()\n",
    "    L = len(population[0])\n",
    "    maximun = (L*(L-1))/2\n",
    "    # Calcular aptidão\n",
    "    steps = 0\n",
    "    while True:\n",
    "        steps += 1\n",
    "        score_aux = 0\n",
    "        for cromo in population:\n",
    "            if score_state(cromo) > score_aux:\n",
    "                score_aux = score_state(cromo)\n",
    "                cromo_aux = cromo\n",
    "        \n",
    "        if score_aux > maximun or len(population) > 200*L:\n",
    "            finish = time.perf_counter()\n",
    "            print(f'Finished in {round(finish - start, 3)} second(s)')\n",
    "            return cromo_aux, steps, score_state(cromo_aux), len(population), population\n",
    "        \n",
    "        #Selecionar uma fração p de membros para reprodução\n",
    "        sub_p = selection(population, p)\n",
    "        \n",
    "        #Aplicar cruzamento e adicionar filhos à p\n",
    "        sub_p = cross_over(selection(population, p))\n",
    "        for child in sub_p:\n",
    "            population = np.vstack([population, child])\n",
    "        \n",
    "        #Realizar mutação em membros da população\n",
    "        population = mutation(population, p)\n",
    "        "
   ]
  },
  {
   "cell_type": "code",
   "execution_count": 601,
   "metadata": {},
   "outputs": [],
   "source": [
    "population = np.random.randint(1, 11, size=(5, 20))"
   ]
  },
  {
   "cell_type": "code",
   "execution_count": 602,
   "metadata": {},
   "outputs": [
    {
     "data": {
      "text/plain": [
       "array([[ 8,  8,  9,  9,  3,  7,  2,  9,  3,  7,  5,  6,  9,  4,  2,  8,\n",
       "        10,  4,  7,  2],\n",
       "       [ 3,  7,  5,  7,  1,  9,  1,  6,  7,  6,  7,  1,  7,  5,  7,  6,\n",
       "         8,  3, 10,  1],\n",
       "       [ 4,  4,  6,  6,  5,  7,  8,  1, 10,  8,  8,  1,  2,  7,  8,  6,\n",
       "         8,  4,  5,  3],\n",
       "       [ 1,  3,  6,  4,  9,  2, 10,  9,  1, 10,  1,  7,  9,  2,  3,  8,\n",
       "         7,  6,  7,  7],\n",
       "       [ 6,  3,  3,  6,  4,  8,  9,  5,  9,  3,  8,  4,  2,  8,  6,  8,\n",
       "         8,  1, 10,  4]])"
      ]
     },
     "execution_count": 602,
     "metadata": {},
     "output_type": "execute_result"
    }
   ],
   "source": [
    "population"
   ]
  },
  {
   "cell_type": "code",
   "execution_count": 603,
   "metadata": {},
   "outputs": [
    {
     "name": "stdout",
     "output_type": "stream",
     "text": [
      "Finished in 10.921 second(s)\n"
     ]
    },
    {
     "data": {
      "text/plain": [
       "(array([12,  3,  1,  6,  4, 15,  2,  9, 16, 13,  8, 14, 17, 10,  3,  8, 14,\n",
       "         4, 10,  7]),\n",
       " 13,\n",
       " 180.0,\n",
       " 5015,\n",
       " array([[ 4,  3, 15, ...,  3,  3, 17],\n",
       "        [ 6,  3,  6, ...,  4,  7,  2],\n",
       "        [ 4,  4,  3, ...,  6, 10,  3],\n",
       "        ...,\n",
       "        [ 4,  3,  6, ...,  3, 11,  7],\n",
       "        [ 4,  3,  3, ...,  4, 12,  2],\n",
       "        [ 1,  1, 16, ...,  3, 10, 19]]))"
      ]
     },
     "execution_count": 603,
     "metadata": {},
     "output_type": "execute_result"
    }
   ],
   "source": [
    "search(population, 0.8)"
   ]
  },
  {
   "cell_type": "code",
   "execution_count": null,
   "metadata": {},
   "outputs": [],
   "source": []
  }
 ],
 "metadata": {
  "kernelspec": {
   "display_name": "Python 3",
   "language": "python",
   "name": "python3"
  },
  "language_info": {
   "codemirror_mode": {
    "name": "ipython",
    "version": 3
   },
   "file_extension": ".py",
   "mimetype": "text/x-python",
   "name": "python",
   "nbconvert_exporter": "python",
   "pygments_lexer": "ipython3",
   "version": "3.7.0"
  }
 },
 "nbformat": 4,
 "nbformat_minor": 4
}
