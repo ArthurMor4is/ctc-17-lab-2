{
 "cells": [
  {
   "cell_type": "markdown",
   "metadata": {},
   "source": [
    "Crie um sistema capaz de resolver o problema das N-Rainhas através de busca\n",
    "de melhoria iterativa (hill climbing ou têmpera simulada) para N com os seguintes\n",
    "valores 10, 20 e 25. Tabele os tempos de processamento para obter uma solução."
   ]
  },
  {
   "cell_type": "code",
   "execution_count": 2,
   "metadata": {},
   "outputs": [],
   "source": [
    "import matplotlib.pyplot as plt\n",
    "import numpy as np\n",
    "from matplotlib import colors\n",
    "import re\n",
    "import random"
   ]
  },
  {
   "cell_type": "code",
   "execution_count": 3,
   "metadata": {},
   "outputs": [],
   "source": [
    "# #change file name\n",
    "# path = \"puzzle.sav\"\n",
    "# # -2: espaco vazio, -1: parede, 0 a 4: n de lampadas que podem iluminar, 5: lampada, 6: blocos iluminados \n",
    "# def load_puzzle(path):\n",
    "#     file = open(path, \"r\")\n",
    "#     desc = []\n",
    "#     numered_block = {}\n",
    "#     for line in file:\n",
    "#         text = line.strip().split(\":\")\n",
    "#         if text[0].strip() == \"DESC\":\n",
    "#             desc = re.findall('.', text[2].strip())\n",
    "#     grid = np.zeros((7, 7), dtype=int)\n",
    "#     i = 0\n",
    "#     run = 0\n",
    "#     for x in range(7):\n",
    "#         for y in range(7):\n",
    "#             c = '\\0'\n",
    "\n",
    "#             if run == 0:\n",
    "#                 c = desc[i]\n",
    "#                 i = i + 1\n",
    "#                 if c >= 'a' and c <= 'z':\n",
    "#                     run = ord(c) - ord('a') + 1\n",
    "\n",
    "#             if run > 0:\n",
    "#                 c = 'S'\n",
    "#                 run = run - 1\n",
    "\n",
    "#             if c == '0' or c == '1' or c == '2' or c == '3' or c == '4':\n",
    "#                 grid[x, y] = ord(c) - ord('0')\n",
    "#                 numered_block[(x, y)] = grid[x, y]\n",
    "#             elif c == 'B':\n",
    "#                 grid[x, y] = -1\n",
    "#             elif c == 'S':\n",
    "#                 grid[x, y] = -2\n",
    "#     return grid, numered_block"
   ]
  },
  {
   "cell_type": "code",
   "execution_count": 4,
   "metadata": {},
   "outputs": [],
   "source": [
    "# path = 'puzzle.sav'\n",
    "# # -2: espaco vazio, -1: parede, 0 a 4: n de lampadas que podem iluminar, 5: lampada, 6: blocos iluminados  \n",
    "# grid, num_blocks = load_puzzle(path)\n",
    "# print(grid)\n",
    "# print(num_blocks)"
   ]
  },
  {
   "cell_type": "code",
   "execution_count": 25,
   "metadata": {},
   "outputs": [],
   "source": [
    "# Modifica o grid com base no vetor de estados\n",
    "# def set_state(state):\n",
    "\n",
    "# Calcula o score do estado atual com base no número de rainhas que se atacam\n",
    "# Score = Número de pares de raínhas que se atacam\n",
    "def score_state(state):\n",
    "    L = len(state)\n",
    "    max_atacks = L*(L-1)/2\n",
    "    state.insert(0, 0) # Para indexar o vetor começando em 1\n",
    "    score = 0\n",
    "    for i in range(1, L+1):\n",
    "        if i <= L:\n",
    "            for j in range(i+1, L+1):\n",
    "                if state[j] == state[i]:\n",
    "                    score += 1\n",
    "                elif abs(i - state[i]) == abs(j - state[j]):\n",
    "                    score += 1\n",
    "                elif state[i] + i == state[j] + j:\n",
    "                    score += 1\n",
    "    \n",
    "    return max_atacks - score"
   ]
  },
  {
   "cell_type": "code",
   "execution_count": 6,
   "metadata": {},
   "outputs": [
    {
     "name": "stdout",
     "output_type": "stream",
     "text": [
      "[[0 0 0 0 0 0 0 0 0 0]\n",
      " [0 0 0 0 0 0 0 0 0 0]\n",
      " [0 0 0 0 0 0 0 0 0 0]\n",
      " [0 0 0 0 0 0 0 0 0 0]\n",
      " [0 0 0 0 0 0 0 0 0 0]\n",
      " [0 0 0 0 0 0 0 0 0 0]\n",
      " [0 0 0 0 0 0 0 0 0 0]\n",
      " [0 0 0 0 0 0 0 0 0 0]\n",
      " [0 0 0 0 0 0 0 0 0 0]\n",
      " [0 0 0 0 0 0 0 0 0 0]]\n"
     ]
    }
   ],
   "source": [
    "grid = np.zeros((10, 10), dtype=int)\n",
    "print(grid)"
   ]
  },
  {
   "cell_type": "code",
   "execution_count": 7,
   "metadata": {},
   "outputs": [
    {
     "data": {
      "text/plain": [
       "6"
      ]
     },
     "execution_count": 7,
     "metadata": {},
     "output_type": "execute_result"
    }
   ],
   "source": [
    "# Vetor contendo a posição vertical das rainhas da esquerda para a direita. Primeira linha -> posic = 0\n",
    "state = [1, 1, 1, 1]\n",
    "# len(state)\n",
    "score_state(state)"
   ]
  },
  {
   "cell_type": "code",
   "execution_count": 29,
   "metadata": {},
   "outputs": [
    {
     "data": {
      "text/plain": [
       "4.0"
      ]
     },
     "execution_count": 29,
     "metadata": {},
     "output_type": "execute_result"
    }
   ],
   "source": [
    "state = [1, 3, 1, 4]\n",
    "score_state(state)"
   ]
  },
  {
   "cell_type": "code",
   "execution_count": null,
   "metadata": {},
   "outputs": [],
   "source": []
  }
 ],
 "metadata": {
  "kernelspec": {
   "display_name": "Python 3",
   "language": "python",
   "name": "python3"
  },
  "language_info": {
   "codemirror_mode": {
    "name": "ipython",
    "version": 3
   },
   "file_extension": ".py",
   "mimetype": "text/x-python",
   "name": "python",
   "nbconvert_exporter": "python",
   "pygments_lexer": "ipython3",
   "version": "3.7.0"
  }
 },
 "nbformat": 4,
 "nbformat_minor": 4
}
